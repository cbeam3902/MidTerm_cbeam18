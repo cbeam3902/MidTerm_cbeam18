{
 "cells": [
  {
   "cell_type": "markdown",
   "id": "880514f5",
   "metadata": {},
   "source": [
    "# Midterm"
   ]
  },
  {
   "cell_type": "markdown",
   "id": "d9e035af",
   "metadata": {},
   "source": [
    "## Options"
   ]
  },
  {
   "cell_type": "code",
   "execution_count": 1,
   "id": "d1ab8b42",
   "metadata": {},
   "outputs": [],
   "source": [
    "train_ModelA = False\n",
    "train_SRGAN = False\n",
    "continueTraining_SRGAN = False\n",
    "train_ModelB = False"
   ]
  },
  {
   "cell_type": "markdown",
   "id": "a88336cc",
   "metadata": {},
   "source": [
    "## Imports"
   ]
  },
  {
   "cell_type": "code",
   "execution_count": 2,
   "id": "24883f89",
   "metadata": {
    "scrolled": false
   },
   "outputs": [
    {
     "name": "stderr",
     "output_type": "stream",
     "text": [
      "2023-11-04 02:54:24.660479: I tensorflow/core/util/port.cc:110] oneDNN custom operations are on. You may see slightly different numerical results due to floating-point round-off errors from different computation orders. To turn them off, set the environment variable `TF_ENABLE_ONEDNN_OPTS=0`.\n",
      "2023-11-04 02:54:24.694498: I tensorflow/core/platform/cpu_feature_guard.cc:182] This TensorFlow binary is optimized to use available CPU instructions in performance-critical operations.\n",
      "To enable the following instructions: AVX2 AVX512F AVX512_VNNI FMA, in other operations, rebuild TensorFlow with the appropriate compiler flags.\n",
      "2023-11-04 02:54:25.396000: W tensorflow/compiler/tf2tensorrt/utils/py_utils.cc:38] TF-TRT Warning: Could not find TensorRT\n",
      "2023-11-04 02:54:26.449780: I tensorflow/compiler/xla/stream_executor/cuda/cuda_gpu_executor.cc:981] could not open file to read NUMA node: /sys/bus/pci/devices/0000:01:00.0/numa_node\n",
      "Your kernel may have been built without NUMA support.\n",
      "2023-11-04 02:54:26.470171: I tensorflow/compiler/xla/stream_executor/cuda/cuda_gpu_executor.cc:981] could not open file to read NUMA node: /sys/bus/pci/devices/0000:01:00.0/numa_node\n",
      "Your kernel may have been built without NUMA support.\n",
      "2023-11-04 02:54:26.470212: I tensorflow/compiler/xla/stream_executor/cuda/cuda_gpu_executor.cc:981] could not open file to read NUMA node: /sys/bus/pci/devices/0000:01:00.0/numa_node\n",
      "Your kernel may have been built without NUMA support.\n"
     ]
    }
   ],
   "source": [
    "import numpy as np\n",
    "from tensorflow import keras\n",
    "import tensorflow as tf\n",
    "import os\n",
    "import datetime\n",
    "import shutil\n",
    "import re\n",
    "import time\n",
    "from tqdm import tqdm\n",
    "\n",
    "logs_base_dir = \"./logs\"\n",
    "shutil.rmtree(logs_base_dir, ignore_errors=True)\n",
    "os.makedirs(logs_base_dir, exist_ok=True)\n",
    "\n",
    "gpus = tf.config.list_physical_devices('GPU')\n",
    "if gpus:\n",
    "    try:\n",
    "        for gpu in gpus:\n",
    "            tf.config.experimental.set_memory_growth(gpu,True)\n",
    "    except RuntimeError as e:\n",
    "        print(e)\n",
    "\n",
    "%load_ext tensorboard"
   ]
  },
  {
   "cell_type": "markdown",
   "id": "8b9eeb08",
   "metadata": {},
   "source": [
    "## Step 1: Training a binary classifier"
   ]
  },
  {
   "cell_type": "markdown",
   "id": "19d0243e",
   "metadata": {},
   "source": [
    "### Separating the data"
   ]
  },
  {
   "cell_type": "code",
   "execution_count": 3,
   "id": "1dcd6d05",
   "metadata": {},
   "outputs": [],
   "source": [
    "label_list = []\n",
    "cats = [0 for i in range(12500)]\n",
    "dogs = [1 for i in range(12500)]\n",
    "label_list.extend(cats)\n",
    "label_list.extend(dogs)"
   ]
  },
  {
   "cell_type": "code",
   "execution_count": 4,
   "id": "dbfa684d",
   "metadata": {
    "scrolled": true
   },
   "outputs": [
    {
     "name": "stdout",
     "output_type": "stream",
     "text": [
      "Found 25000 files belonging to 2 classes.\n",
      "Using 17500 files for training.\n",
      "Using 7500 files for validation.\n"
     ]
    },
    {
     "name": "stderr",
     "output_type": "stream",
     "text": [
      "2023-11-04 02:57:38.183503: I tensorflow/compiler/xla/stream_executor/cuda/cuda_gpu_executor.cc:981] could not open file to read NUMA node: /sys/bus/pci/devices/0000:01:00.0/numa_node\n",
      "Your kernel may have been built without NUMA support.\n",
      "2023-11-04 02:57:38.183646: I tensorflow/compiler/xla/stream_executor/cuda/cuda_gpu_executor.cc:981] could not open file to read NUMA node: /sys/bus/pci/devices/0000:01:00.0/numa_node\n",
      "Your kernel may have been built without NUMA support.\n",
      "2023-11-04 02:57:38.183667: I tensorflow/compiler/xla/stream_executor/cuda/cuda_gpu_executor.cc:981] could not open file to read NUMA node: /sys/bus/pci/devices/0000:01:00.0/numa_node\n",
      "Your kernel may have been built without NUMA support.\n",
      "2023-11-04 02:57:39.260834: I tensorflow/compiler/xla/stream_executor/cuda/cuda_gpu_executor.cc:981] could not open file to read NUMA node: /sys/bus/pci/devices/0000:01:00.0/numa_node\n",
      "Your kernel may have been built without NUMA support.\n",
      "2023-11-04 02:57:39.260947: I tensorflow/compiler/xla/stream_executor/cuda/cuda_gpu_executor.cc:981] could not open file to read NUMA node: /sys/bus/pci/devices/0000:01:00.0/numa_node\n",
      "Your kernel may have been built without NUMA support.\n",
      "2023-11-04 02:57:39.260954: I tensorflow/core/common_runtime/gpu/gpu_device.cc:1726] Could not identify NUMA node of platform GPU id 0, defaulting to 0.  Your kernel may not have been built with NUMA support.\n",
      "2023-11-04 02:57:39.260977: I tensorflow/compiler/xla/stream_executor/cuda/cuda_gpu_executor.cc:981] could not open file to read NUMA node: /sys/bus/pci/devices/0000:01:00.0/numa_node\n",
      "Your kernel may have been built without NUMA support.\n",
      "2023-11-04 02:57:39.261034: I tensorflow/core/common_runtime/gpu/gpu_device.cc:1639] Created device /job:localhost/replica:0/task:0/device:GPU:0 with 9529 MB memory:  -> device: 0, name: NVIDIA GeForce RTX 3080, pci bus id: 0000:01:00.0, compute capability: 8.6\n"
     ]
    }
   ],
   "source": [
    "\n",
    "ds = keras.utils.image_dataset_from_directory(\n",
    "    directory='data/dogs_cats/train/',\n",
    "    labels=label_list,\n",
    "    label_mode='categorical',\n",
    "    batch_size=64,\n",
    "    image_size=(128,128),\n",
    "    seed=0,\n",
    "    validation_split=0.3,\n",
    "    subset=\"both\"\n",
    ")\n",
    "(train_ds, test_ds) = ds"
   ]
  },
  {
   "cell_type": "markdown",
   "id": "2397c001",
   "metadata": {},
   "source": [
    "### Preprocess and Augment the data"
   ]
  },
  {
   "cell_type": "code",
   "execution_count": 5,
   "id": "d89b53ae",
   "metadata": {},
   "outputs": [],
   "source": [
    "data_augmentation = keras.Sequential(\n",
    "    [\n",
    "        keras.layers.RandomFlip(\"horizontal\"),\n",
    "        keras.layers.RandomRotation(0.1),\n",
    "        keras.layers.RandomFlip(\"vertical\"),\n",
    "        keras.layers.RandomZoom(height_factor=0.1,width_factor=0.1)\n",
    "    ]\n",
    ")"
   ]
  },
  {
   "cell_type": "markdown",
   "id": "de213f55",
   "metadata": {},
   "source": [
    "### Perform Transfer Learning"
   ]
  },
  {
   "cell_type": "markdown",
   "id": "84f7b1aa",
   "metadata": {},
   "source": [
    "### MobileNetV2"
   ]
  },
  {
   "cell_type": "code",
   "execution_count": 6,
   "id": "8e85801d",
   "metadata": {},
   "outputs": [
    {
     "name": "stdout",
     "output_type": "stream",
     "text": [
      "Model: \"model\"\n",
      "_________________________________________________________________\n",
      " Layer (type)                Output Shape              Param #   \n",
      "=================================================================\n",
      " input_2 (InputLayer)        [(None, 128, 128, 3)]     0         \n",
      "                                                                 \n",
      " sequential (Sequential)     (None, 128, 128, 3)       0         \n",
      "                                                                 \n",
      " rescaling (Rescaling)       (None, 128, 128, 3)       0         \n",
      "                                                                 \n",
      " mobilenetv2_1.00_128 (Func  (None, 4, 4, 1280)        2257984   \n",
      " tional)                                                         \n",
      "                                                                 \n",
      " global_average_pooling2d (  (None, 1280)              0         \n",
      " GlobalAveragePooling2D)                                         \n",
      "                                                                 \n",
      " dropout (Dropout)           (None, 1280)              0         \n",
      "                                                                 \n",
      " dense (Dense)               (None, 2)                 2562      \n",
      "                                                                 \n",
      "=================================================================\n",
      "Total params: 2260546 (8.62 MB)\n",
      "Trainable params: 2562 (10.01 KB)\n",
      "Non-trainable params: 2257984 (8.61 MB)\n",
      "_________________________________________________________________\n"
     ]
    }
   ],
   "source": [
    "base_mobile_model = keras.applications.MobileNetV2(\n",
    "    weights=\"imagenet\",\n",
    "    input_shape=(128,128,3),\n",
    "    include_top=False\n",
    ")\n",
    "\n",
    "base_mobile_model.trainable = False\n",
    "\n",
    "inputs = keras.Input(shape=(128,128,3))\n",
    "x = data_augmentation(inputs)\n",
    "\n",
    "scaled_layer = keras.layers.Rescaling(scale=1/255.0)\n",
    "x = scaled_layer(x)\n",
    "\n",
    "x = base_mobile_model(x, training=False)\n",
    "x = keras.layers.GlobalAveragePooling2D()(x)\n",
    "x = keras.layers.Dropout(0.2)(x)\n",
    "outputs = keras.layers.Dense(2)(x)\n",
    "mobile_model = keras.Model(inputs, outputs)\n",
    "\n",
    "mobile_model.summary()"
   ]
  },
  {
   "cell_type": "code",
   "execution_count": 7,
   "id": "1f937ae3",
   "metadata": {
    "scrolled": true
   },
   "outputs": [],
   "source": [
    "if train_ModelA:\n",
    "    keras.backend.clear_session()\n",
    "    mobile_model.compile(\n",
    "        optimizer=keras.optimizers.Adam(),\n",
    "        loss=keras.losses.CategoricalCrossentropy(from_logits=True),\n",
    "        metrics=[keras.metrics.CategoricalAccuracy()],\n",
    "    )\n",
    "\n",
    "    logdir = os.path.join(\"logs\", datetime.datetime.now().strftime(\"%Y%m%d-%H%M%S\"))\n",
    "    tensorboard_callback = tf.keras.callbacks.TensorBoard(logdir, histogram_freq=1)\n",
    "\n",
    "    epochs = 20\n",
    "    mobile_model.fit(train_ds, epochs=epochs, callbacks=[tensorboard_callback])"
   ]
  },
  {
   "cell_type": "markdown",
   "id": "33e2f69a",
   "metadata": {},
   "source": [
    "#### Fine Tuning"
   ]
  },
  {
   "cell_type": "code",
   "execution_count": 8,
   "id": "5640575a",
   "metadata": {},
   "outputs": [],
   "source": [
    "if train_ModelA:\n",
    "    keras.backend.clear_session()\n",
    "    base_mobile_model.trainable = True\n",
    "\n",
    "    mobile_model.compile(\n",
    "        optimizer=keras.optimizers.Adam(1e-5),\n",
    "        loss=keras.losses.CategoricalCrossentropy(from_logits=True),\n",
    "        metrics=[keras.metrics.CategoricalAccuracy()],\n",
    "    )\n",
    "\n",
    "    mobile_model.fit(train_ds, epochs=10, callbacks=[tensorboard_callback])"
   ]
  },
  {
   "cell_type": "markdown",
   "id": "092d0811",
   "metadata": {},
   "source": [
    "### Saving Model A"
   ]
  },
  {
   "cell_type": "code",
   "execution_count": 9,
   "id": "ace44afc",
   "metadata": {},
   "outputs": [],
   "source": [
    "if train_ModelA:\n",
    "    mobile_model.save_weights(\"models/modelA.ckpt\")\n",
    "else:\n",
    "    mobile_model.load_weights(\"models/modelA.ckpt\")"
   ]
  },
  {
   "cell_type": "markdown",
   "id": "5e4369e3",
   "metadata": {},
   "source": [
    "## Step 2: Training SRGAN"
   ]
  },
  {
   "cell_type": "code",
   "execution_count": 10,
   "id": "4e42642c",
   "metadata": {},
   "outputs": [],
   "source": [
    "def GENBlock(x):\n",
    "    out = keras.layers.Conv2D(64, (3,3), (1,1), padding='same')(x)\n",
    "    out = keras.layers.BatchNormalization()(out)\n",
    "    out = keras.layers.PReLU()(out)\n",
    "    out = keras.layers.Conv2D(64, (3,3), (1,1), padding='same')(x)\n",
    "    out = keras.layers.BatchNormalization()(out)\n",
    "    out = keras.layers.Add()([out, x])\n",
    "    return out\n",
    "\n",
    "def DISBlock(x, n):\n",
    "    out = keras.layers.Conv2D(n, (3,3), (1,1), padding='same')(x)\n",
    "    out = keras.layers.BatchNormalization()(out)\n",
    "    out = keras.layers.LeakyReLU(0.2)(out)\n",
    "    out = keras.layers.Conv2D(n, (3,3), (2,2), padding='same')(x)\n",
    "    out = keras.layers.BatchNormalization()(out)\n",
    "    out = keras.layers.LeakyReLU(0.2)(out)\n",
    "    return out\n"
   ]
  },
  {
   "cell_type": "markdown",
   "metadata": {},
   "source": [
    "### Helper Function"
   ]
  },
  {
   "cell_type": "code",
   "execution_count": 11,
   "metadata": {},
   "outputs": [],
   "source": [
    "import matplotlib.pyplot as plt\n",
    "from IPython import display\n",
    "\n",
    "def generate_and_save_images(model, epoch, test_input, gt_output):\n",
    "  # Notice `training` is set to False.\n",
    "  # This is so all layers run in inference mode (batchnorm).\n",
    "  predictions = model(test_input, training=False)\n",
    "\n",
    "  fig = plt.figure(figsize=(4, 3))\n",
    "\n",
    "  for i in range(12):\n",
    "      plt.subplot(4, 3, i+1)\n",
    "      if i % 3 == 0:\n",
    "         plt.imshow(tf.cast(tf.clip_by_value(predictions[i // 3, :, :, :], 0, 255), \"uint8\"))\n",
    "      elif i % 3 == 1:\n",
    "         plt.imshow(tf.cast(tf.clip_by_value(test_input[i // 3], 0, 255), \"uint8\")) \n",
    "      else:\n",
    "         plt.imshow(tf.cast(tf.clip_by_value(gt_output[i // 3], 0, 255), \"uint8\"))\n",
    "      \n",
    "      if i == 0:\n",
    "         plt.title(\"Generated\")\n",
    "      elif i == 1:\n",
    "         plt.title(\"Resized\")\n",
    "      elif i == 2:\n",
    "         plt.title(\"Original\")\n",
    "      plt.axis('off')\n",
    "\n",
    "  plt.savefig('training_outputs/image_at_epoch_{:04d}.png'.format(epoch))\n",
    "  plt.show()\n",
    "  plt.close()"
   ]
  },
  {
   "cell_type": "markdown",
   "id": "6f123c93",
   "metadata": {},
   "source": [
    "### Generator"
   ]
  },
  {
   "cell_type": "code",
   "execution_count": 12,
   "id": "0e187e95",
   "metadata": {},
   "outputs": [
    {
     "name": "stdout",
     "output_type": "stream",
     "text": [
      "Model: \"model_1\"\n",
      "__________________________________________________________________________________________________\n",
      " Layer (type)                Output Shape                 Param #   Connected to                  \n",
      "==================================================================================================\n",
      " input_3 (InputLayer)        [(None, 32, 32, 3)]          0         []                            \n",
      "                                                                                                  \n",
      " rescaling_1 (Rescaling)     (None, 32, 32, 3)            0         ['input_3[0][0]']             \n",
      "                                                                                                  \n",
      " conv2d (Conv2D)             (None, 32, 32, 64)           15616     ['rescaling_1[0][0]']         \n",
      "                                                                                                  \n",
      " p_re_lu (PReLU)             (None, 32, 32, 64)           65536     ['conv2d[0][0]']              \n",
      "                                                                                                  \n",
      " conv2d_2 (Conv2D)           (None, 32, 32, 64)           36928     ['p_re_lu[0][0]']             \n",
      "                                                                                                  \n",
      " batch_normalization_1 (Bat  (None, 32, 32, 64)           256       ['conv2d_2[0][0]']            \n",
      " chNormalization)                                                                                 \n",
      "                                                                                                  \n",
      " add (Add)                   (None, 32, 32, 64)           0         ['batch_normalization_1[0][0]'\n",
      "                                                                    , 'p_re_lu[0][0]']            \n",
      "                                                                                                  \n",
      " conv2d_4 (Conv2D)           (None, 32, 32, 64)           36928     ['add[0][0]']                 \n",
      "                                                                                                  \n",
      " batch_normalization_3 (Bat  (None, 32, 32, 64)           256       ['conv2d_4[0][0]']            \n",
      " chNormalization)                                                                                 \n",
      "                                                                                                  \n",
      " add_1 (Add)                 (None, 32, 32, 64)           0         ['batch_normalization_3[0][0]'\n",
      "                                                                    , 'add[0][0]']                \n",
      "                                                                                                  \n",
      " conv2d_6 (Conv2D)           (None, 32, 32, 64)           36928     ['add_1[0][0]']               \n",
      "                                                                                                  \n",
      " batch_normalization_5 (Bat  (None, 32, 32, 64)           256       ['conv2d_6[0][0]']            \n",
      " chNormalization)                                                                                 \n",
      "                                                                                                  \n",
      " add_2 (Add)                 (None, 32, 32, 64)           0         ['batch_normalization_5[0][0]'\n",
      "                                                                    , 'add_1[0][0]']              \n",
      "                                                                                                  \n",
      " conv2d_8 (Conv2D)           (None, 32, 32, 64)           36928     ['add_2[0][0]']               \n",
      "                                                                                                  \n",
      " batch_normalization_7 (Bat  (None, 32, 32, 64)           256       ['conv2d_8[0][0]']            \n",
      " chNormalization)                                                                                 \n",
      "                                                                                                  \n",
      " add_3 (Add)                 (None, 32, 32, 64)           0         ['batch_normalization_7[0][0]'\n",
      "                                                                    , 'add_2[0][0]']              \n",
      "                                                                                                  \n",
      " conv2d_10 (Conv2D)          (None, 32, 32, 64)           36928     ['add_3[0][0]']               \n",
      "                                                                                                  \n",
      " batch_normalization_9 (Bat  (None, 32, 32, 64)           256       ['conv2d_10[0][0]']           \n",
      " chNormalization)                                                                                 \n",
      "                                                                                                  \n",
      " add_4 (Add)                 (None, 32, 32, 64)           0         ['batch_normalization_9[0][0]'\n",
      "                                                                    , 'add_3[0][0]']              \n",
      "                                                                                                  \n",
      " conv2d_11 (Conv2D)          (None, 32, 32, 64)           36928     ['add_4[0][0]']               \n",
      "                                                                                                  \n",
      " batch_normalization_10 (Ba  (None, 32, 32, 64)           256       ['conv2d_11[0][0]']           \n",
      " tchNormalization)                                                                                \n",
      "                                                                                                  \n",
      " add_5 (Add)                 (None, 32, 32, 64)           0         ['batch_normalization_10[0][0]\n",
      "                                                                    ',                            \n",
      "                                                                     'p_re_lu[0][0]']             \n",
      "                                                                                                  \n",
      " conv2d_12 (Conv2D)          (None, 32, 32, 256)          147712    ['add_5[0][0]']               \n",
      "                                                                                                  \n",
      " reshape (Reshape)           (None, 64, 64, 64)           0         ['conv2d_12[0][0]']           \n",
      "                                                                                                  \n",
      " p_re_lu_6 (PReLU)           (None, 64, 64, 64)           262144    ['reshape[0][0]']             \n",
      "                                                                                                  \n",
      " conv2d_13 (Conv2D)          (None, 64, 64, 256)          147712    ['p_re_lu_6[0][0]']           \n",
      "                                                                                                  \n",
      " reshape_1 (Reshape)         (None, 128, 128, 64)         0         ['conv2d_13[0][0]']           \n",
      "                                                                                                  \n",
      " p_re_lu_7 (PReLU)           (None, 128, 128, 64)         1048576   ['reshape_1[0][0]']           \n",
      "                                                                                                  \n",
      " conv2d_14 (Conv2D)          (None, 128, 128, 3)          15555     ['p_re_lu_7[0][0]']           \n",
      "                                                                                                  \n",
      "==================================================================================================\n",
      "Total params: 1925955 (7.35 MB)\n",
      "Trainable params: 1925187 (7.34 MB)\n",
      "Non-trainable params: 768 (3.00 KB)\n",
      "__________________________________________________________________________________________________\n"
     ]
    }
   ],
   "source": [
    "inputs = keras.Input(shape=(32,32,3))\n",
    "scaled_layer = keras.layers.Rescaling(scale=1/255.0, offset=0)\n",
    "\n",
    "x = scaled_layer(inputs)\n",
    "x = keras.layers.Conv2D(64, (9,9), (1,1), padding='same')(x)\n",
    "x = keras.layers.PReLU()(x)\n",
    "x_skip = x\n",
    "for i in range(5):\n",
    "    x = GENBlock(x)\n",
    "x = keras.layers.Conv2D(64, (3,3), (1,1), padding='same')(x)\n",
    "x = keras.layers.BatchNormalization()(x)\n",
    "x = keras.layers.Add()([x, x_skip])\n",
    "\n",
    "x = keras.layers.Conv2D(256, (3,3), (1,1), padding='same')(x)\n",
    "x = keras.layers.Reshape((x.shape[1]*2, x.shape[2]*2, x.shape[3]//4))(x)\n",
    "x = keras.layers.PReLU()(x)\n",
    "\n",
    "x = keras.layers.Conv2D(256, (3,3), (1,1), padding='same')(x)\n",
    "x = keras.layers.Reshape((x.shape[1]*2, x.shape[2]*2, x.shape[3]//4))(x)\n",
    "x = keras.layers.PReLU()(x)\n",
    "\n",
    "outputs = keras.layers.Conv2D(3, (9,9), (1,1), padding='same')(x)\n",
    "\n",
    "generator_model = keras.Model(inputs, outputs)\n",
    "generator_model.summary()"
   ]
  },
  {
   "cell_type": "markdown",
   "id": "3f11907e",
   "metadata": {},
   "source": [
    "### Discriminator"
   ]
  },
  {
   "cell_type": "code",
   "execution_count": 13,
   "id": "4fde7d68",
   "metadata": {},
   "outputs": [
    {
     "name": "stdout",
     "output_type": "stream",
     "text": [
      "Model: \"model_2\"\n",
      "_________________________________________________________________\n",
      " Layer (type)                Output Shape              Param #   \n",
      "=================================================================\n",
      " input_4 (InputLayer)        [(None, 128, 128, 3)]     0         \n",
      "                                                                 \n",
      " rescaling_2 (Rescaling)     (None, 128, 128, 3)       0         \n",
      "                                                                 \n",
      " conv2d_15 (Conv2D)          (None, 128, 128, 64)      1792      \n",
      "                                                                 \n",
      " leaky_re_lu (LeakyReLU)     (None, 128, 128, 64)      0         \n",
      "                                                                 \n",
      " conv2d_16 (Conv2D)          (None, 64, 64, 64)        36928     \n",
      "                                                                 \n",
      " batch_normalization_11 (Ba  (None, 64, 64, 64)        256       \n",
      " tchNormalization)                                               \n",
      "                                                                 \n",
      " leaky_re_lu_1 (LeakyReLU)   (None, 64, 64, 64)        0         \n",
      "                                                                 \n",
      " conv2d_18 (Conv2D)          (None, 32, 32, 128)       73856     \n",
      "                                                                 \n",
      " batch_normalization_13 (Ba  (None, 32, 32, 128)       512       \n",
      " tchNormalization)                                               \n",
      "                                                                 \n",
      " leaky_re_lu_3 (LeakyReLU)   (None, 32, 32, 128)       0         \n",
      "                                                                 \n",
      " conv2d_20 (Conv2D)          (None, 16, 16, 256)       295168    \n",
      "                                                                 \n",
      " batch_normalization_15 (Ba  (None, 16, 16, 256)       1024      \n",
      " tchNormalization)                                               \n",
      "                                                                 \n",
      " leaky_re_lu_5 (LeakyReLU)   (None, 16, 16, 256)       0         \n",
      "                                                                 \n",
      " conv2d_22 (Conv2D)          (None, 8, 8, 512)         1180160   \n",
      "                                                                 \n",
      " batch_normalization_17 (Ba  (None, 8, 8, 512)         2048      \n",
      " tchNormalization)                                               \n",
      "                                                                 \n",
      " leaky_re_lu_7 (LeakyReLU)   (None, 8, 8, 512)         0         \n",
      "                                                                 \n",
      " flatten (Flatten)           (None, 32768)             0         \n",
      "                                                                 \n",
      " dense_1 (Dense)             (None, 1024)              33555456  \n",
      "                                                                 \n",
      " leaky_re_lu_8 (LeakyReLU)   (None, 1024)              0         \n",
      "                                                                 \n",
      " dense_2 (Dense)             (None, 1)                 1025      \n",
      "                                                                 \n",
      "=================================================================\n",
      "Total params: 35148225 (134.08 MB)\n",
      "Trainable params: 35146305 (134.07 MB)\n",
      "Non-trainable params: 1920 (7.50 KB)\n",
      "_________________________________________________________________\n"
     ]
    }
   ],
   "source": [
    "inputs = keras.Input(shape=(128,128,3))\n",
    "scaled_layer = keras.layers.Rescaling(scale=1/255.0, offset=0)\n",
    "\n",
    "x = scaled_layer(inputs)\n",
    "x = keras.layers.Conv2D(64, (3,3), (1,1), padding='same')(x)\n",
    "x = keras.layers.LeakyReLU(0.2)(x)\n",
    "x = keras.layers.Conv2D(64, (3,3), (2,2), padding='same')(x)\n",
    "x = keras.layers.BatchNormalization()(x)\n",
    "x = keras.layers.LeakyReLU(0.2)(x)\n",
    "x = DISBlock(x, 128)\n",
    "x = DISBlock(x, 256)\n",
    "x = DISBlock(x, 512)\n",
    "x = keras.layers.Flatten()(x)\n",
    "x = keras.layers.Dense(1024)(x)\n",
    "x = keras.layers.LeakyReLU(0.2)(x)\n",
    "x = keras.layers.Dense(1)(x)\n",
    "\n",
    "outputs = keras.activations.sigmoid(x)\n",
    "outputs = x\n",
    "\n",
    "discriminator_model = keras.Model(inputs, outputs)\n",
    "discriminator_model.summary()"
   ]
  },
  {
   "cell_type": "markdown",
   "id": "e0f5053f",
   "metadata": {},
   "source": [
    "### Training"
   ]
  },
  {
   "cell_type": "code",
   "execution_count": 14,
   "metadata": {},
   "outputs": [],
   "source": [
    "if train_SRGAN and continueTraining_SRGAN:\n",
    "    generator_model.load_weights(\"models/gen_model.ckpt\")\n",
    "    discriminator_model.load_weights(\"models/dis_model.ckpt\")"
   ]
  },
  {
   "cell_type": "code",
   "execution_count": 15,
   "id": "9208b79f",
   "metadata": {},
   "outputs": [
    {
     "name": "stdout",
     "output_type": "stream",
     "text": [
      "Downloading data from https://storage.googleapis.com/tensorflow/keras-applications/vgg19/vgg19_weights_tf_dim_ordering_tf_kernels_notop.h5\n",
      "80134624/80134624 [==============================] - 1s 0us/step\n"
     ]
    }
   ],
   "source": [
    "cross_entropy = tf.keras.losses.BinaryCrossentropy(from_logits=False)\n",
    "mse_loss = tf.keras.losses.MeanSquaredError()\n",
    "\n",
    "vgg_model = keras.applications.VGG19(\n",
    "    weights=\"imagenet\",\n",
    "    input_shape=(128,128,3),\n",
    "    include_top=False\n",
    ")\n",
    "\n",
    "def discriminator_loss(real_output, fake_output):\n",
    "    real_loss = cross_entropy(tf.ones_like(real_output), real_output)\n",
    "    fake_loss = cross_entropy(tf.zeros_like(fake_output), fake_output)\n",
    "    total_loss = real_loss + fake_loss\n",
    "    return total_loss\n",
    "\n",
    "def generator_loss(fake_output):\n",
    "    return cross_entropy(tf.ones_like(fake_output), fake_output)\n",
    "\n",
    "generator_optimizer = tf.keras.optimizers.Adam(1e-4)\n",
    "discriminator_optimizer = tf.keras.optimizers.Adam(1e-4)"
   ]
  },
  {
   "cell_type": "code",
   "execution_count": 16,
   "id": "a2413b5d",
   "metadata": {},
   "outputs": [],
   "source": [
    "@tf.function\n",
    "def train_step(small_image, big_image):\n",
    "    with tf.GradientTape() as gen_tape, tf.GradientTape() as disc_tape:\n",
    "        generated_images = generator_model(small_image, training=True)\n",
    "\n",
    "        real_output = discriminator_model(big_image, training=True)\n",
    "        fake_output = discriminator_model(generated_images, training=True)\n",
    "\n",
    "        disc_loss = discriminator_loss(real_output, fake_output)\n",
    "\n",
    "        g_loss = generator_loss(fake_output)\n",
    "        m_loss = mse_loss(big_image, generated_images)\n",
    "        v_loss = mse_loss(vgg_model(big_image), vgg_model(generated_images))\n",
    "        gen_loss = g_loss + m_loss + v_loss\n",
    "\n",
    "        grad_gen = gen_tape.gradient(gen_loss, generator_model.trainable_variables)\n",
    "        grad_disc = disc_tape.gradient(disc_loss, discriminator_model.trainable_variables)\n",
    "\n",
    "        generator_optimizer.apply_gradients(zip(grad_gen, generator_model.trainable_variables))\n",
    "        discriminator_optimizer.apply_gradients(zip(grad_disc, discriminator_model.trainable_variables))\n",
    "\n",
    "def train(big_dataset, epochs):\n",
    "    resize_layer = keras.layers.Resizing(32, 32)\n",
    "    for epoch in tqdm(range(epochs)):\n",
    "        # start = time.time()\n",
    "        for big_batch in big_dataset:\n",
    "            small_batch = resize_layer(big_batch[0])\n",
    "            train_step(small_batch, big_batch[0])\n",
    "\n",
    "        iterator_big = iter(big_dataset)\n",
    "        big_batch = iterator_big.get_next()\n",
    "        small_batch = resize_layer(big_batch[0])\n",
    "        generate_and_save_images(generator_model, epoch, small_batch, big_batch[0])\n",
    "        # print ('Time for epoch {} is {} sec'.format(epoch + 1, time.time()-start))"
   ]
  },
  {
   "cell_type": "code",
   "execution_count": 17,
   "id": "ffe122f5",
   "metadata": {},
   "outputs": [],
   "source": [
    "if train_SRGAN:\n",
    "    train(train_ds, 150)"
   ]
  },
  {
   "cell_type": "code",
   "execution_count": 18,
   "id": "acfd3086",
   "metadata": {},
   "outputs": [],
   "source": [
    "if train_SRGAN:\n",
    "    generator_model.save_weights(\"models/gen_model.ckpt\")\n",
    "    discriminator_model.save_weights(\"models/dis_model.ckpt\")\n",
    "else:\n",
    "    generator_model.load_weights(\"models/gen_model.ckpt\")\n",
    "    discriminator_model.load_weights(\"models/dis_model.ckpt\")"
   ]
  },
  {
   "cell_type": "code",
   "execution_count": 20,
   "metadata": {},
   "outputs": [
    {
     "data": {
      "image/png": "[encoded data removed]",
      "text/plain": [
       "<Figure size 400x300 with 12 Axes>"
      ]
     },
     "metadata": {},
     "output_type": "display_data"
    }
   ],
   "source": [
    "resize_layer = tf.keras.layers.Resizing(32, 32)\n",
    "iterator = iter(train_ds)\n",
    "big_dataset = iterator.get_next()\n",
    "small_dataset = resize_layer(big_dataset[0])\n",
    "\n",
    "generate_and_save_images(generator_model, 9999, small_dataset, big_dataset[0])"
   ]
  },
  {
   "cell_type": "markdown",
   "metadata": {},
   "source": [
    "## Train Model B"
   ]
  },
  {
   "cell_type": "code",
   "execution_count": 21,
   "metadata": {},
   "outputs": [],
   "source": [
    "small_ds = train_ds.map(\n",
    "    lambda x,y: (generator_model(resize_layer(x), training=False), y)\n",
    ")\n",
    "small_ds = small_ds.cache()"
   ]
  },
  {
   "cell_type": "code",
   "execution_count": 22,
   "metadata": {},
   "outputs": [
    {
     "name": "stdout",
     "output_type": "stream",
     "text": [
      "Model: \"model_3\"\n",
      "_________________________________________________________________\n",
      " Layer (type)                Output Shape              Param #   \n",
      "=================================================================\n",
      " input_7 (InputLayer)        [(None, 128, 128, 3)]     0         \n",
      "                                                                 \n",
      " sequential (Sequential)     (None, 128, 128, 3)       0         \n",
      "                                                                 \n",
      " rescaling_3 (Rescaling)     (None, 128, 128, 3)       0         \n",
      "                                                                 \n",
      " mobilenetv2_1.00_128 (Func  (None, 4, 4, 1280)        2257984   \n",
      " tional)                                                         \n",
      "                                                                 \n",
      " global_average_pooling2d_1  (None, 1280)              0         \n",
      "  (GlobalAveragePooling2D)                                       \n",
      "                                                                 \n",
      " dropout_1 (Dropout)         (None, 1280)              0         \n",
      "                                                                 \n",
      " dense_3 (Dense)             (None, 2)                 2562      \n",
      "                                                                 \n",
      "=================================================================\n",
      "Total params: 2260546 (8.62 MB)\n",
      "Trainable params: 2562 (10.01 KB)\n",
      "Non-trainable params: 2257984 (8.61 MB)\n",
      "_________________________________________________________________\n"
     ]
    }
   ],
   "source": [
    "base_mobile_modelB = keras.applications.MobileNetV2(\n",
    "    weights=\"imagenet\",\n",
    "    input_shape=(128,128,3),\n",
    "    include_top=False\n",
    ")\n",
    "\n",
    "base_mobile_modelB.trainable = False\n",
    "\n",
    "inputs = keras.Input(shape=(128,128,3))\n",
    "x = data_augmentation(inputs)\n",
    "\n",
    "scaled_layer = keras.layers.Rescaling(scale=1/255.0)\n",
    "x = scaled_layer(x)\n",
    "\n",
    "x = base_mobile_modelB(x, training=False)\n",
    "x = keras.layers.GlobalAveragePooling2D()(x)\n",
    "x = keras.layers.Dropout(0.2)(x)\n",
    "outputs = keras.layers.Dense(2)(x)\n",
    "modelB = keras.Model(inputs, outputs)\n",
    "\n",
    "modelB.summary()\n"
   ]
  },
  {
   "cell_type": "code",
   "execution_count": 23,
   "metadata": {},
   "outputs": [],
   "source": [
    "if train_ModelB:\n",
    "    keras.backend.clear_session()\n",
    "    modelB.compile(\n",
    "        optimizer=keras.optimizers.Adam(),\n",
    "        loss=keras.losses.CategoricalCrossentropy(from_logits=True),\n",
    "        metrics=[keras.metrics.CategoricalAccuracy()],\n",
    "    )\n",
    "\n",
    "    logdir = os.path.join(\"logs\", datetime.datetime.now().strftime(\"%Y%m%d-%H%M%S\"))\n",
    "    tensorboard_callback = tf.keras.callbacks.TensorBoard(logdir, histogram_freq=1)\n",
    "\n",
    "    epochs = 20\n",
    "    modelB.fit(small_ds, epochs=epochs, callbacks=[tensorboard_callback])"
   ]
  },
  {
   "cell_type": "code",
   "execution_count": 24,
   "metadata": {},
   "outputs": [],
   "source": [
    "if train_ModelB:\n",
    "    keras.backend.clear_session()\n",
    "    base_mobile_modelB.trainable = True\n",
    "\n",
    "    modelB.compile(\n",
    "        optimizer=keras.optimizers.Adam(1e-5),\n",
    "        loss=keras.losses.CategoricalCrossentropy(from_logits=True),\n",
    "        metrics=[keras.metrics.CategoricalAccuracy()],\n",
    "    )\n",
    "\n",
    "    modelB.fit(small_ds, epochs=10, callbacks=[tensorboard_callback])"
   ]
  },
  {
   "cell_type": "code",
   "execution_count": 25,
   "metadata": {},
   "outputs": [],
   "source": [
    "if train_ModelB:\n",
    "    modelB.save_weights(\"models/modelB.ckpt\")\n",
    "else:\n",
    "    modelB.load_weights(\"models/modelB.ckpt\")"
   ]
  },
  {
   "cell_type": "markdown",
   "metadata": {},
   "source": [
    "## Comparison"
   ]
  },
  {
   "cell_type": "code",
   "execution_count": 78,
   "metadata": {},
   "outputs": [],
   "source": [
    "true_output = []\n",
    "predA_output = []\n",
    "predB_output = []\n",
    "\n",
    "blah = 0\n",
    "for batch in test_ds:\n",
    "    blah = blah + len(batch[0])\n",
    "    predA = mobile_model(batch[0], training=False)\n",
    "    predB = modelB(batch[0], training=False)\n",
    "\n",
    "    true_output.append(batch[1])\n",
    "    predA_output.append(predA)\n",
    "    predB_output.append(predB)"
   ]
  },
  {
   "cell_type": "code",
   "execution_count": 98,
   "metadata": {},
   "outputs": [],
   "source": [
    "import sklearn.metrics\n",
    "true_output = tf.concat(true_output, 0)\n",
    "predA_output = tf.concat(predA_output, 0)\n",
    "predB_output = tf.concat(predB_output, 0)\n",
    "\n",
    "true_index = tf.argmax(true_output, 1)\n",
    "predA_index = tf.argmax(predA_output, 1)\n",
    "predB_index = tf.argmax(predB_output, 1)"
   ]
  },
  {
   "cell_type": "code",
   "execution_count": 99,
   "metadata": {},
   "outputs": [
    {
     "name": "stdout",
     "output_type": "stream",
     "text": [
      "0.9692665289256198\n",
      "0.7059078121618697\n"
     ]
    }
   ],
   "source": [
    "A_f1score = sklearn.metrics.f1_score(true_index, predA_index)\n",
    "B_f1score = sklearn.metrics.f1_score(true_index, predB_index)\n",
    "print(A_f1score)\n",
    "print(B_f1score)"
   ]
  },
  {
   "cell_type": "code",
   "execution_count": 100,
   "metadata": {},
   "outputs": [
    {
     "name": "stdout",
     "output_type": "stream",
     "text": [
      "0.9682666666666667\n",
      "0.6376\n"
     ]
    }
   ],
   "source": [
    "A_accuracy = sklearn.metrics.accuracy_score(true_index, predA_index)\n",
    "B_accuracy = sklearn.metrics.accuracy_score(true_index, predB_index)\n",
    "print(A_accuracy)\n",
    "print(B_accuracy)"
   ]
  },
  {
   "cell_type": "code",
   "execution_count": 101,
   "metadata": {},
   "outputs": [
    {
     "name": "stdout",
     "output_type": "stream",
     "text": [
      "[[3509  205]\n",
      " [  33 3753]]\n",
      "[[1520 2194]\n",
      " [ 524 3262]]\n"
     ]
    }
   ],
   "source": [
    "A_confusion = sklearn.metrics.confusion_matrix(true_index, predA_index)\n",
    "B_confusion = sklearn.metrics.confusion_matrix(true_index, predB_index)\n",
    "print(A_confusion)\n",
    "print(B_confusion)"
   ]
  }
 ],
 "metadata": {
  "kernelspec": {
   "display_name": "Python 3 (ipykernel)",
   "language": "python",
   "name": "python3"
  },
  "language_info": {
   "codemirror_mode": {
    "name": "ipython",
    "version": 3
   },
   "file_extension": ".py",
   "mimetype": "text/x-python",
   "name": "python",
   "nbconvert_exporter": "python",
   "pygments_lexer": "ipython3",
   "version": "3.10.12"
  }
 },
 "nbformat": 4,
 "nbformat_minor": 5
}
