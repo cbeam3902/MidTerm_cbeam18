{
 "cells": [
  {
   "cell_type": "markdown",
   "id": "880514f5",
   "metadata": {},
   "source": [
    "# Midterm"
   ]
  },
  {
   "cell_type": "markdown",
   "id": "d9e035af",
   "metadata": {},
   "source": [
    "## Options"
   ]
  },
  {
   "cell_type": "code",
   "execution_count": null,
   "id": "d1ab8b42",
   "metadata": {},
   "outputs": [],
   "source": [
    "train_ModleA = False"
   ]
  },
  {
   "cell_type": "markdown",
   "id": "a88336cc",
   "metadata": {},
   "source": [
    "## Imports"
   ]
  },
  {
   "cell_type": "code",
   "execution_count": 1,
   "id": "24883f89",
   "metadata": {
    "scrolled": false
   },
   "outputs": [
    {
     "name": "stderr",
     "output_type": "stream",
     "text": [
      "2023-10-31 03:03:11.555292: I tensorflow/core/util/port.cc:110] oneDNN custom operations are on. You may see slightly different numerical results due to floating-point round-off errors from different computation orders. To turn them off, set the environment variable `TF_ENABLE_ONEDNN_OPTS=0`.\n",
      "2023-10-31 03:03:11.602902: I tensorflow/core/platform/cpu_feature_guard.cc:182] This TensorFlow binary is optimized to use available CPU instructions in performance-critical operations.\n",
      "To enable the following instructions: AVX2 AVX512F AVX512_VNNI FMA, in other operations, rebuild TensorFlow with the appropriate compiler flags.\n",
      "2023-10-31 03:03:12.332441: W tensorflow/compiler/tf2tensorrt/utils/py_utils.cc:38] TF-TRT Warning: Could not find TensorRT\n",
      "2023-10-31 03:03:13.399683: I tensorflow/compiler/xla/stream_executor/cuda/cuda_gpu_executor.cc:981] could not open file to read NUMA node: /sys/bus/pci/devices/0000:01:00.0/numa_node\n",
      "Your kernel may have been built without NUMA support.\n",
      "2023-10-31 03:03:13.423285: I tensorflow/compiler/xla/stream_executor/cuda/cuda_gpu_executor.cc:981] could not open file to read NUMA node: /sys/bus/pci/devices/0000:01:00.0/numa_node\n",
      "Your kernel may have been built without NUMA support.\n",
      "2023-10-31 03:03:13.423335: I tensorflow/compiler/xla/stream_executor/cuda/cuda_gpu_executor.cc:981] could not open file to read NUMA node: /sys/bus/pci/devices/0000:01:00.0/numa_node\n",
      "Your kernel may have been built without NUMA support.\n"
     ]
    }
   ],
   "source": [
    "import numpy as np\n",
    "from tensorflow import keras\n",
    "import tensorflow as tf\n",
    "import os\n",
    "import datetime\n",
    "import shutil\n",
    "import re\n",
    "\n",
    "logs_base_dir = \"./logs\"\n",
    "shutil.rmtree(logs_base_dir, ignore_errors=True)\n",
    "os.makedirs(logs_base_dir, exist_ok=True)\n",
    "\n",
    "gpus = tf.config.list_physical_devices('GPU')\n",
    "if gpus:\n",
    "    try:\n",
    "        for gpu in gpus:\n",
    "            tf.config.experimental.set_memory_growth(gpu,True)\n",
    "    except RuntimeError as e:\n",
    "        print(e)\n",
    "\n",
    "%load_ext tensorboard"
   ]
  },
  {
   "cell_type": "markdown",
   "id": "8b9eeb08",
   "metadata": {},
   "source": [
    "## Step 1: Training a binary classifier"
   ]
  },
  {
   "cell_type": "markdown",
   "id": "19d0243e",
   "metadata": {},
   "source": [
    "### Separating the data"
   ]
  },
  {
   "cell_type": "code",
   "execution_count": 2,
   "id": "1dcd6d05",
   "metadata": {},
   "outputs": [],
   "source": [
    "label_list = []\n",
    "cats = [0 for i in range(12500)]\n",
    "dogs = [1 for i in range(12500)]\n",
    "label_list.extend(cats)\n",
    "label_list.extend(dogs)"
   ]
  },
  {
   "cell_type": "code",
   "execution_count": 3,
   "id": "dbfa684d",
   "metadata": {
    "scrolled": true
   },
   "outputs": [
    {
     "name": "stdout",
     "output_type": "stream",
     "text": [
      "Found 25000 files belonging to 2 classes.\n",
      "Using 22500 files for training.\n",
      "Using 2500 files for validation.\n"
     ]
    },
    {
     "name": "stderr",
     "output_type": "stream",
     "text": [
      "2023-10-31 03:04:56.462306: I tensorflow/compiler/xla/stream_executor/cuda/cuda_gpu_executor.cc:981] could not open file to read NUMA node: /sys/bus/pci/devices/0000:01:00.0/numa_node\n",
      "Your kernel may have been built without NUMA support.\n",
      "2023-10-31 03:04:56.462394: I tensorflow/compiler/xla/stream_executor/cuda/cuda_gpu_executor.cc:981] could not open file to read NUMA node: /sys/bus/pci/devices/0000:01:00.0/numa_node\n",
      "Your kernel may have been built without NUMA support.\n",
      "2023-10-31 03:04:56.462413: I tensorflow/compiler/xla/stream_executor/cuda/cuda_gpu_executor.cc:981] could not open file to read NUMA node: /sys/bus/pci/devices/0000:01:00.0/numa_node\n",
      "Your kernel may have been built without NUMA support.\n",
      "2023-10-31 03:04:57.087500: I tensorflow/compiler/xla/stream_executor/cuda/cuda_gpu_executor.cc:981] could not open file to read NUMA node: /sys/bus/pci/devices/0000:01:00.0/numa_node\n",
      "Your kernel may have been built without NUMA support.\n",
      "2023-10-31 03:04:57.087560: I tensorflow/compiler/xla/stream_executor/cuda/cuda_gpu_executor.cc:981] could not open file to read NUMA node: /sys/bus/pci/devices/0000:01:00.0/numa_node\n",
      "Your kernel may have been built without NUMA support.\n",
      "2023-10-31 03:04:57.087567: I tensorflow/core/common_runtime/gpu/gpu_device.cc:1726] Could not identify NUMA node of platform GPU id 0, defaulting to 0.  Your kernel may not have been built with NUMA support.\n",
      "2023-10-31 03:04:57.087585: I tensorflow/compiler/xla/stream_executor/cuda/cuda_gpu_executor.cc:981] could not open file to read NUMA node: /sys/bus/pci/devices/0000:01:00.0/numa_node\n",
      "Your kernel may have been built without NUMA support.\n",
      "2023-10-31 03:04:57.087612: I tensorflow/core/common_runtime/gpu/gpu_device.cc:1639] Created device /job:localhost/replica:0/task:0/device:GPU:0 with 9529 MB memory:  -> device: 0, name: NVIDIA GeForce RTX 3080, pci bus id: 0000:01:00.0, compute capability: 8.6\n"
     ]
    }
   ],
   "source": [
    "ds = keras.utils.image_dataset_from_directory(\n",
    "    directory='data/dogs_cats/train/',\n",
    "    labels=label_list,\n",
    "    label_mode='categorical',\n",
    "    batch_size=256,\n",
    "    image_size=(128,128),\n",
    "    seed=0,\n",
    "    validation_split=0.1,\n",
    "    subset=\"both\"\n",
    ")"
   ]
  },
  {
   "cell_type": "code",
   "execution_count": 4,
   "id": "1f7a2fc5",
   "metadata": {},
   "outputs": [],
   "source": [
    "(train_ds, test_ds) = ds"
   ]
  },
  {
   "cell_type": "markdown",
   "id": "2397c001",
   "metadata": {},
   "source": [
    "### Preprocess and Augment the data"
   ]
  },
  {
   "cell_type": "code",
   "execution_count": 5,
   "id": "d89b53ae",
   "metadata": {},
   "outputs": [],
   "source": [
    "data_augmentation = keras.Sequential(\n",
    "    [\n",
    "        keras.layers.RandomFlip(\"horizontal\"),\n",
    "        keras.layers.RandomRotation(0.1),\n",
    "        keras.layers.RandomFlip(\"vertical\"),\n",
    "        keras.layers.RandomZoom(height_factor=0.1,width_factor=0.1)\n",
    "    ]\n",
    ")"
   ]
  },
  {
   "cell_type": "markdown",
   "id": "de213f55",
   "metadata": {},
   "source": [
    "### Perform Transfer Learning"
   ]
  },
  {
   "cell_type": "markdown",
   "id": "84f7b1aa",
   "metadata": {},
   "source": [
    "### MobileNetV2"
   ]
  },
  {
   "cell_type": "code",
   "execution_count": 6,
   "id": "8e85801d",
   "metadata": {},
   "outputs": [
    {
     "name": "stdout",
     "output_type": "stream",
     "text": [
      "Model: \"model\"\n",
      "_________________________________________________________________\n",
      " Layer (type)                Output Shape              Param #   \n",
      "=================================================================\n",
      " input_2 (InputLayer)        [(None, 128, 128, 3)]     0         \n",
      "                                                                 \n",
      " sequential (Sequential)     (None, 128, 128, 3)       0         \n",
      "                                                                 \n",
      " rescaling (Rescaling)       (None, 128, 128, 3)       0         \n",
      "                                                                 \n",
      " mobilenetv2_1.00_128 (Func  (None, 4, 4, 1280)        2257984   \n",
      " tional)                                                         \n",
      "                                                                 \n",
      " global_average_pooling2d (  (None, 1280)              0         \n",
      " GlobalAveragePooling2D)                                         \n",
      "                                                                 \n",
      " dropout (Dropout)           (None, 1280)              0         \n",
      "                                                                 \n",
      " dense (Dense)               (None, 2)                 2562      \n",
      "                                                                 \n",
      "=================================================================\n",
      "Total params: 2260546 (8.62 MB)\n",
      "Trainable params: 2562 (10.01 KB)\n",
      "Non-trainable params: 2257984 (8.61 MB)\n",
      "_________________________________________________________________\n"
     ]
    }
   ],
   "source": [
    "base_mobile_model = keras.applications.MobileNetV2(\n",
    "    weights=\"imagenet\",\n",
    "    input_shape=(128,128,3),\n",
    "    include_top=False\n",
    ")\n",
    "\n",
    "base_mobile_model.trainable = False\n",
    "\n",
    "inputs = keras.Input(shape=(128,128,3))\n",
    "x = data_augmentation(inputs)\n",
    "\n",
    "scaled_layer = keras.layers.Rescaling(scale=1/255.0)\n",
    "x = scaled_layer(x)\n",
    "\n",
    "x = base_mobile_model(x, training=False)\n",
    "x = keras.layers.GlobalAveragePooling2D()(x)\n",
    "x = keras.layers.Dropout(0.2)(x)\n",
    "outputs = keras.layers.Dense(2)(x)\n",
    "mobile_model = keras.Model(inputs, outputs)\n",
    "\n",
    "mobile_model.summary()"
   ]
  },
  {
   "cell_type": "code",
   "execution_count": 7,
   "id": "1f937ae3",
   "metadata": {
    "scrolled": true
   },
   "outputs": [
    {
     "name": "stdout",
     "output_type": "stream",
     "text": [
      "Epoch 1/20\n"
     ]
    },
    {
     "name": "stderr",
     "output_type": "stream",
     "text": [
      "2023-10-31 03:05:03.488528: I tensorflow/compiler/xla/stream_executor/cuda/cuda_dnn.cc:432] Loaded cuDNN version 8801\n",
      "2023-10-31 03:05:03.816200: I tensorflow/compiler/xla/stream_executor/cuda/cuda_blas.cc:606] TensorFloat-32 will be used for the matrix multiplication. This will only be logged once.\n",
      "2023-10-31 03:05:03.880253: I tensorflow/compiler/xla/service/service.cc:168] XLA service 0x7f8d4d91ec30 initialized for platform CUDA (this does not guarantee that XLA will be used). Devices:\n",
      "2023-10-31 03:05:03.880289: I tensorflow/compiler/xla/service/service.cc:176]   StreamExecutor device (0): NVIDIA GeForce RTX 3080, Compute Capability 8.6\n",
      "2023-10-31 03:05:03.885090: I tensorflow/compiler/mlir/tensorflow/utils/dump_mlir_util.cc:255] disabling MLIR crash reproducer, set env var `MLIR_CRASH_REPRODUCER_DIRECTORY` to enable.\n",
      "2023-10-31 03:05:03.968896: I ./tensorflow/compiler/jit/device_compiler.h:186] Compiled cluster using XLA!  This line is logged at most once for the lifetime of the process.\n"
     ]
    },
    {
     "name": "stdout",
     "output_type": "stream",
     "text": [
      "88/88 [==============================] - 27s 247ms/step - loss: 0.4110 - categorical_accuracy: 0.8144\n",
      "Epoch 2/20\n",
      "88/88 [==============================] - 23s 240ms/step - loss: 0.2868 - categorical_accuracy: 0.8775\n",
      "Epoch 3/20\n",
      "88/88 [==============================] - 23s 242ms/step - loss: 0.2672 - categorical_accuracy: 0.8847\n",
      "Epoch 4/20\n",
      "88/88 [==============================] - 23s 241ms/step - loss: 0.2603 - categorical_accuracy: 0.8894\n",
      "Epoch 5/20\n",
      "88/88 [==============================] - 24s 245ms/step - loss: 0.2490 - categorical_accuracy: 0.8940\n",
      "Epoch 6/20\n",
      "88/88 [==============================] - 23s 243ms/step - loss: 0.2462 - categorical_accuracy: 0.8930\n",
      "Epoch 7/20\n",
      "88/88 [==============================] - 23s 242ms/step - loss: 0.2476 - categorical_accuracy: 0.8954\n",
      "Epoch 8/20\n",
      "88/88 [==============================] - 23s 242ms/step - loss: 0.2461 - categorical_accuracy: 0.8965\n",
      "Epoch 9/20\n",
      "88/88 [==============================] - 23s 241ms/step - loss: 0.2453 - categorical_accuracy: 0.8963\n",
      "Epoch 10/20\n",
      "88/88 [==============================] - 23s 244ms/step - loss: 0.2469 - categorical_accuracy: 0.8958\n",
      "Epoch 11/20\n",
      "88/88 [==============================] - 25s 261ms/step - loss: 0.2417 - categorical_accuracy: 0.8962\n",
      "Epoch 12/20\n",
      "88/88 [==============================] - 24s 254ms/step - loss: 0.2438 - categorical_accuracy: 0.8973\n",
      "Epoch 13/20\n",
      "88/88 [==============================] - 25s 262ms/step - loss: 0.2441 - categorical_accuracy: 0.8967\n",
      "Epoch 14/20\n",
      "88/88 [==============================] - 26s 265ms/step - loss: 0.2436 - categorical_accuracy: 0.8964\n",
      "Epoch 15/20\n",
      "88/88 [==============================] - 25s 258ms/step - loss: 0.2446 - categorical_accuracy: 0.8972\n",
      "Epoch 16/20\n",
      "88/88 [==============================] - 25s 259ms/step - loss: 0.2449 - categorical_accuracy: 0.8970\n",
      "Epoch 17/20\n",
      "88/88 [==============================] - 25s 258ms/step - loss: 0.2416 - categorical_accuracy: 0.8942\n",
      "Epoch 18/20\n",
      "88/88 [==============================] - 25s 263ms/step - loss: 0.2405 - categorical_accuracy: 0.8971\n",
      "Epoch 19/20\n",
      "88/88 [==============================] - 26s 272ms/step - loss: 0.2396 - categorical_accuracy: 0.8968\n",
      "Epoch 20/20\n",
      "88/88 [==============================] - 26s 265ms/step - loss: 0.2436 - categorical_accuracy: 0.8969\n"
     ]
    },
    {
     "data": {
      "text/plain": [
       "<keras.src.callbacks.History at 0x7f8ef9f63a90>"
      ]
     },
     "execution_count": 7,
     "metadata": {},
     "output_type": "execute_result"
    }
   ],
   "source": [
    "keras.backend.clear_session()\n",
    "mobile_model.compile(\n",
    "    optimizer=keras.optimizers.Adam(),\n",
    "    loss=keras.losses.CategoricalCrossentropy(from_logits=True),\n",
    "    metrics=[keras.metrics.CategoricalAccuracy()],\n",
    ")\n",
    "\n",
    "logdir = os.path.join(\"logs\", datetime.datetime.now().strftime(\"%Y%m%d-%H%M%S\"))\n",
    "tensorboard_callback = tf.keras.callbacks.TensorBoard(logdir, histogram_freq=1)\n",
    "\n",
    "epochs = 20\n",
    "mobile_model.fit(train_ds, epochs=epochs, callbacks=[tensorboard_callback])"
   ]
  },
  {
   "cell_type": "markdown",
   "id": "33e2f69a",
   "metadata": {},
   "source": [
    "#### Fine Tuning"
   ]
  },
  {
   "cell_type": "code",
   "execution_count": 8,
   "id": "5640575a",
   "metadata": {},
   "outputs": [
    {
     "name": "stdout",
     "output_type": "stream",
     "text": [
      "Epoch 1/10\n",
      "88/88 [==============================] - 51s 303ms/step - loss: 0.2116 - categorical_accuracy: 0.9106\n",
      "Epoch 2/10\n",
      "88/88 [==============================] - 25s 254ms/step - loss: 0.1819 - categorical_accuracy: 0.9243\n",
      "Epoch 3/10\n",
      "88/88 [==============================] - 25s 259ms/step - loss: 0.1628 - categorical_accuracy: 0.9328\n",
      "Epoch 4/10\n",
      "88/88 [==============================] - 25s 257ms/step - loss: 0.1534 - categorical_accuracy: 0.9374\n",
      "Epoch 5/10\n",
      "88/88 [==============================] - 25s 256ms/step - loss: 0.1400 - categorical_accuracy: 0.9432\n",
      "Epoch 6/10\n",
      "88/88 [==============================] - 25s 258ms/step - loss: 0.1306 - categorical_accuracy: 0.9468\n",
      "Epoch 7/10\n",
      "88/88 [==============================] - 25s 260ms/step - loss: 0.1257 - categorical_accuracy: 0.9491\n",
      "Epoch 8/10\n",
      "88/88 [==============================] - 25s 259ms/step - loss: 0.1209 - categorical_accuracy: 0.9504\n",
      "Epoch 9/10\n",
      "88/88 [==============================] - 25s 259ms/step - loss: 0.1149 - categorical_accuracy: 0.9547\n",
      "Epoch 10/10\n",
      "88/88 [==============================] - 25s 255ms/step - loss: 0.1149 - categorical_accuracy: 0.9548\n"
     ]
    },
    {
     "data": {
      "text/plain": [
       "<keras.src.callbacks.History at 0x7f8f40137010>"
      ]
     },
     "execution_count": 8,
     "metadata": {},
     "output_type": "execute_result"
    }
   ],
   "source": [
    "keras.backend.clear_session()\n",
    "base_mobile_model.trainable = True\n",
    "\n",
    "mobile_model.compile(\n",
    "    optimizer=keras.optimizers.Adam(1e-5),\n",
    "    loss=keras.losses.CategoricalCrossentropy(from_logits=True),\n",
    "    metrics=[keras.metrics.CategoricalAccuracy()],\n",
    ")\n",
    "\n",
    "mobile_model.fit(train_ds, epochs=10, callbacks=[tensorboard_callback])"
   ]
  },
  {
   "cell_type": "markdown",
   "id": "092d0811",
   "metadata": {},
   "source": [
    "### Saving Model A"
   ]
  },
  {
   "cell_type": "code",
   "execution_count": 9,
   "id": "ace44afc",
   "metadata": {},
   "outputs": [],
   "source": [
    "mobile_model.save_weights(\"models/modelA.ckpt\")"
   ]
  },
  {
   "cell_type": "code",
   "execution_count": 10,
   "id": "2538422c",
   "metadata": {},
   "outputs": [
    {
     "data": {
      "text/plain": [
       "<tensorflow.python.checkpoint.checkpoint.CheckpointLoadStatus at 0x7f8e0756d900>"
      ]
     },
     "execution_count": 10,
     "metadata": {},
     "output_type": "execute_result"
    }
   ],
   "source": [
    "mobile_model.load_weights('models/modelA.ckpt')"
   ]
  }
 ],
 "metadata": {
  "kernelspec": {
   "display_name": "Python 3 (ipykernel)",
   "language": "python",
   "name": "python3"
  },
  "language_info": {
   "codemirror_mode": {
    "name": "ipython",
    "version": 3
   },
   "file_extension": ".py",
   "mimetype": "text/x-python",
   "name": "python",
   "nbconvert_exporter": "python",
   "pygments_lexer": "ipython3",
   "version": "3.10.12"
  }
 },
 "nbformat": 4,
 "nbformat_minor": 5
}
